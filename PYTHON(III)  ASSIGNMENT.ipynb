{
 "cells": [
  {
   "cell_type": "code",
   "execution_count": 6,
   "metadata": {},
   "outputs": [
    {
     "name": "stdout",
     "output_type": "stream",
     "text": [
      "Area OF A Square\n",
      " Enter  a: 9\n",
      " The Area of a Square = 81.00 \n"
     ]
    }
   ],
   "source": [
    "print(\"Area OF A Square\")\n",
    "a = float(input(' Enter  a: '))\n",
    "area = a * a\n",
    "print(\" The Area of a Square = %.2f \" %area)"
   ]
  },
  {
   "cell_type": "code",
   "execution_count": 2,
   "metadata": {},
   "outputs": [
    {
     "name": "stdout",
     "output_type": "stream",
     "text": [
      "Area of a Paralellogram\n",
      " enter your base: 9\n",
      " enter your height: 9\n",
      " The Area of the Parallelogram  = 81.00 \n"
     ]
    }
   ],
   "source": [
    "print(\"Area of a Paralellogram\")\n",
    "b = float(input(' enter your base: '))\n",
    "h = float(input(' enter your height: '))\n",
    "area = h * b\n",
    "print(\" The Area of the Parallelogram  = %.2f \" %area)"
   ]
  },
  {
   "cell_type": "code",
   "execution_count": 3,
   "metadata": {},
   "outputs": [
    {
     "name": "stdout",
     "output_type": "stream",
     "text": [
      " Enter the Radius of the Cone: 9\n",
      " Enter the Height of th Cone: 9\n",
      " The Surface Area of a Cone = 614.34 \n"
     ]
    }
   ],
   "source": [
    "# area of a cone\n",
    "import math\n",
    "\n",
    "r = float(input(' Enter the Radius of the Cone: '))\n",
    "h = float(input(' Enter the Height of th Cone: '))\n",
    "\n",
    "l = math.sqrt(r * r + h * h)\n",
    "SA = math.pi * r * (r + l)\n",
    "print(\" The Surface Area of a Cone = %.2f \" %SA)\n"
   ]
  },
  {
   "cell_type": "code",
   "execution_count": 4,
   "metadata": {},
   "outputs": [
    {
     "name": "stdout",
     "output_type": "stream",
     "text": [
      "Area of a triangle\n",
      " enter your base: 9\n",
      " enter your height: 9\n",
      " The Area of the Triangle is = 40.50 \n"
     ]
    }
   ],
   "source": [
    "# area of a Triangle\n",
    "import math\n",
    "print(\"Area of a triangle\")\n",
    "b = float(input(' enter your base: '))\n",
    "h = float(input(' enter your height: '))\n",
    "area = 1 / 2 * h * b\n",
    "print(\" The Area of the Triangle is = %.2f \" %area)"
   ]
  },
  {
   "cell_type": "code",
   "execution_count": 5,
   "metadata": {},
   "outputs": [
    {
     "name": "stdout",
     "output_type": "stream",
     "text": [
      "AREA OF A Circle\n",
      "enter your radius: 9\n",
      " The Surface Area of a Circle = 254.34 \n"
     ]
    }
   ],
   "source": [
    "# area of a circle\n",
    "import math\n",
    "print(\"AREA OF A Circle\")\n",
    "radius = float(input('enter your radius: '))\n",
    "pie = 3.14\n",
    "area = pie * radius * radius   \n",
    "print(\" The Surface Area of a Circle = %.2f \" %area)"
   ]
  },
  {
   "cell_type": "code",
   "execution_count": null,
   "metadata": {},
   "outputs": [],
   "source": []
  }
 ],
 "metadata": {
  "kernelspec": {
   "display_name": "Python 3",
   "language": "python",
   "name": "python3"
  },
  "language_info": {
   "codemirror_mode": {
    "name": "ipython",
    "version": 3
   },
   "file_extension": ".py",
   "mimetype": "text/x-python",
   "name": "python",
   "nbconvert_exporter": "python",
   "pygments_lexer": "ipython3",
   "version": "3.7.4"
  }
 },
 "nbformat": 4,
 "nbformat_minor": 2
}
