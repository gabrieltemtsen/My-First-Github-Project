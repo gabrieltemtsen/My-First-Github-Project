{
 "cells": [
  {
   "cell_type": "markdown",
   "metadata": {},
   "source": [
    "# AREA OF SHAPES"
   ]
  },
  {
   "cell_type": "code",
   "execution_count": 1,
   "metadata": {},
   "outputs": [
    {
     "name": "stdout",
     "output_type": "stream",
     "text": [
      "AREA OF A CONE\n",
      "please enter your radius: 9\n",
      "please enter your height: 7\n",
      " The Surface Area of a Cone = 576.55 \n"
     ]
    }
   ],
   "source": [
    "#Surface Area of A cone\n",
    "import math\n",
    "print(\"AREA OF A CONE\")\n",
    "radius = float(input('please enter your radius: '))\n",
    "height = float(input('please enter your height: '))\n",
    "PI = 3.14\n",
    "sqroot = math.sqrt(height * height + radius * radius)\n",
    "area = PI * radius * (radius + sqroot) \n",
    "print(\" The Surface Area of a Cone = %.2f \" %area)\n"
   ]
  },
  {
   "cell_type": "code",
   "execution_count": 2,
   "metadata": {},
   "outputs": [
    {
     "name": "stdout",
     "output_type": "stream",
     "text": [
      "Area OF A Square\n",
      "please enter side a: 8\n",
      " The Area of a Square = 64.00 \n"
     ]
    }
   ],
   "source": [
    "# Area of A Square\n",
    "import math\n",
    "print(\"Area OF A Square\")\n",
    "SideA = float(input('please enter side a: '))\n",
    "area = SideA * SideA\n",
    "print(\" The Area of a Square = %.2f \" %area)\n"
   ]
  },
  {
   "cell_type": "code",
   "execution_count": null,
   "metadata": {},
   "outputs": [],
   "source": [
    "#Surface Area of A Parallelogram\n",
    "import math\n",
    "print(\"AREA OF A PARALLELOGRAM\")\n",
    "base = float(input('please enter your base: '))\n",
    "height = float(input('please enter your height: '))\n",
    "area = height * base\n",
    "print(\" The Area of the Parallelogram is = %.2f \" %area)"
   ]
  },
  {
   "cell_type": "code",
   "execution_count": 1,
   "metadata": {},
   "outputs": [
    {
     "name": "stdout",
     "output_type": "stream",
     "text": [
      "AREA OF A TRIANGLE\n",
      "please enter your base: 9\n",
      "please enter your height: 9\n",
      " The Area of the Triangle is = 40.50 \n"
     ]
    }
   ],
   "source": [
    "#Surface Area of A Triangle\n",
    "import math\n",
    "print(\"AREA OF A TRIANGLE\")\n",
    "base = float(input('please enter your base: '))\n",
    "height = float(input('please enter your height: '))\n",
    "area = 1 / 2 * height * base\n",
    "print(\" The Area of the Triangle is = %.2f \" %area)"
   ]
  },
  {
   "cell_type": "code",
   "execution_count": 4,
   "metadata": {},
   "outputs": [
    {
     "name": "stdout",
     "output_type": "stream",
     "text": [
      "Area OF A Cube\n",
      "please enter Edge a: 9\n",
      " The Area of a Square = 486.00 \n"
     ]
    }
   ],
   "source": [
    "# Area of A Cube\n",
    "import math\n",
    "print(\"Area OF A Cube\")\n",
    "EdgeA = float(input('please enter Edge a: '))\n",
    "area = 6 * EdgeA * EdgeA \n",
    "print(\" The Area of a Square = %.2f \" %area)\n"
   ]
  },
  {
   "cell_type": "code",
   "execution_count": 5,
   "metadata": {},
   "outputs": [
    {
     "name": "stdout",
     "output_type": "stream",
     "text": [
      "AREA OF A Circle\n",
      "please enter your radius: 9\n",
      " The Surface Area of a Circle = 254.34 \n"
     ]
    }
   ],
   "source": [
    "#Surface Area of A circle\n",
    "import math\n",
    "print(\"AREA OF A Circle\")\n",
    "radius = float(input('please enter your radius: '))\n",
    "PI = 3.14\n",
    "area = PI * radius * radius   \n",
    "print(\" The Surface Area of a Circle = %.2f \" %area)"
   ]
  },
  {
   "cell_type": "code",
   "execution_count": 7,
   "metadata": {},
   "outputs": [
    {
     "name": "stdout",
     "output_type": "stream",
     "text": [
      "AREA OF A CYLINDER\n",
      "please enter your radius: 9\n",
      "please enter your height: 9\n",
      " The Surface Area of a Cylinder = 1017.36 \n"
     ]
    }
   ],
   "source": [
    "#Surface Area of A cylinder\n",
    "import math\n",
    "print(\"AREA OF A CYLINDER\")\n",
    "radius = float(input('please enter your radius: '))\n",
    "height = float(input('please enter your height: '))\n",
    "PI = 3.14\n",
    "area = 2 * PI * radius * height + 2 * PI * radius * radius \n",
    "print(\" The Surface Area of a Cylinder = %.2f \" %area)"
   ]
  },
  {
   "cell_type": "code",
   "execution_count": 8,
   "metadata": {},
   "outputs": [
    {
     "name": "stdout",
     "output_type": "stream",
     "text": [
      "AREA OF A Sphere\n",
      "please enter your radius: 9\n",
      " The Surface Area of a Sphere = 1017.36 \n"
     ]
    }
   ],
   "source": [
    "#Surface Area of A Sphere\n",
    "import math\n",
    "print(\"AREA OF A Sphere\")\n",
    "radius = float(input('please enter your radius: '))\n",
    "PI = 3.14\n",
    "area = 4 * PI * radius * radius   \n",
    "print(\" The Surface Area of a Sphere = %.2f \" %area)"
   ]
  },
  {
   "cell_type": "code",
   "execution_count": 11,
   "metadata": {},
   "outputs": [
    {
     "ename": "SyntaxError",
     "evalue": "invalid syntax (<ipython-input-11-07288671ab9e>, line 4)",
     "output_type": "error",
     "traceback": [
      "\u001b[1;36m  File \u001b[1;32m\"<ipython-input-11-07288671ab9e>\"\u001b[1;36m, line \u001b[1;32m4\u001b[0m\n\u001b[1;33m    print(\" The Area of a Square = \" area)\u001b[0m\n\u001b[1;37m                                        ^\u001b[0m\n\u001b[1;31mSyntaxError\u001b[0m\u001b[1;31m:\u001b[0m invalid syntax\n"
     ]
    }
   ],
   "source": []
  },
  {
   "cell_type": "code",
   "execution_count": 12,
   "metadata": {},
   "outputs": [
    {
     "name": "stdout",
     "output_type": "stream",
     "text": [
      "Please Enter the Radius of a Cone: 9\n",
      "Please Enter the Height of a Cone: 8\n",
      " The Surface Area of a Cone = 594.94 \n"
     ]
    }
   ],
   "source": [
    "# area of a cone\n",
    "import math\n",
    "\n",
    "radius = float(input('Please Enter the Radius of a Cone: '))\n",
    "height = float(input('Please Enter the Height of a Cone: '))\n",
    "\n",
    "l = math.sqrt(radius * radius + height * height)\n",
    "SA = math.pi * radius * (radius + l)\n",
    "print(\" The Surface Area of a Cone = %.2f \" %SA)\n"
   ]
  },
  {
   "cell_type": "code",
   "execution_count": null,
   "metadata": {},
   "outputs": [],
   "source": []
  }
 ],
 "metadata": {
  "kernelspec": {
   "display_name": "Python 3",
   "language": "python",
   "name": "python3"
  },
  "language_info": {
   "codemirror_mode": {
    "name": "ipython",
    "version": 3
   },
   "file_extension": ".py",
   "mimetype": "text/x-python",
   "name": "python",
   "nbconvert_exporter": "python",
   "pygments_lexer": "ipython3",
   "version": "3.7.4"
  }
 },
 "nbformat": 4,
 "nbformat_minor": 2
}
