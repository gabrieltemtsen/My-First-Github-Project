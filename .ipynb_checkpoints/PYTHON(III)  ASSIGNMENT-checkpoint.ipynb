{
 "cells": [
  {
   "cell_type": "code",
   "execution_count": null,
   "metadata": {},
   "outputs": [],
   "source": [
    "print(\"Area OF A Square\")\n",
    "a = float(input(' Enter  a: '))\n",
    "area = a * a\n",
    "print(\" The Area of a Square = %.2f \" %area)"
   ]
  },
  {
   "cell_type": "code",
   "execution_count": null,
   "metadata": {},
   "outputs": [],
   "source": [
    "print(\"Area of a Paralellogram\")\n",
    "b = float(input(' enter your base: '))\n",
    "h = float(input(' enter your height: '))\n",
    "area = h * b\n",
    "print(\" The Area of the Parallelogram  = %.2f \" %area)"
   ]
  },
  {
   "cell_type": "code",
   "execution_count": null,
   "metadata": {},
   "outputs": [],
   "source": [
    "# area of a cone\n",
    "import math\n",
    "\n",
    "r = float(input(' Enter the Radius of the Cone: '))\n",
    "h = float(input(' Enter the Height of th Cone: '))\n",
    "\n",
    "l = math.sqrt(r * r + h * h)\n",
    "SA = math.pi * r * (r + l)\n",
    "print(\" The Surface Area of a Cone = %.2f \" %SA)\n"
   ]
  },
  {
   "cell_type": "code",
   "execution_count": null,
   "metadata": {},
   "outputs": [],
   "source": [
    "# area of a Triangle\n",
    "import math\n",
    "print(\"AREA OF A TRIANGLE\")\n",
    "base = float(input(' enter your base: '))\n",
    "height = float(input(' enter your height: '))\n",
    "area = 1 / 2 * height * base\n",
    "print(\" The Area of the Triangle is = %.2f \" %area)"
   ]
  }
 ],
 "metadata": {
  "kernelspec": {
   "display_name": "Python 3",
   "language": "python",
   "name": "python3"
  },
  "language_info": {
   "codemirror_mode": {
    "name": "ipython",
    "version": 3
   },
   "file_extension": ".py",
   "mimetype": "text/x-python",
   "name": "python",
   "nbconvert_exporter": "python",
   "pygments_lexer": "ipython3",
   "version": "3.7.4"
  }
 },
 "nbformat": 4,
 "nbformat_minor": 2
}
