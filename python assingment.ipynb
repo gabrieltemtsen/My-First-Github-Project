{
 "cells": [
  {
   "cell_type": "code",
   "execution_count": 1,
   "metadata": {},
   "outputs": [
    {
     "name": "stdout",
     "output_type": "stream",
     "text": [
      "Enter your limit? \n",
      "100\n",
      "2\n",
      "4\n",
      "6\n",
      "8\n",
      "10\n",
      "12\n",
      "14\n",
      "16\n",
      "18\n",
      "20\n",
      "22\n",
      "24\n",
      "26\n",
      "28\n",
      "30\n",
      "32\n",
      "34\n",
      "36\n",
      "38\n",
      "40\n",
      "42\n",
      "44\n",
      "46\n",
      "48\n",
      "50\n",
      "52\n",
      "54\n",
      "56\n",
      "58\n",
      "60\n",
      "62\n",
      "64\n",
      "66\n",
      "68\n",
      "70\n",
      "72\n",
      "74\n",
      "76\n",
      "78\n",
      "80\n",
      "82\n",
      "84\n",
      "86\n",
      "88\n",
      "90\n",
      "92\n",
      "94\n",
      "96\n",
      "98\n",
      "100\n"
     ]
    }
   ],
   "source": [
    "# Question 1 to find even numbers\n",
    "n = int(input('Enter your limit? \\n'))\n",
    " \n",
    "for x in range(1, 101):\n",
    "    if (x % 2 == 0):\n",
    "        print(x)\n",
    "        "
   ]
  },
  {
   "cell_type": "code",
   "execution_count": 2,
   "metadata": {},
   "outputs": [
    {
     "name": "stdout",
     "output_type": "stream",
     "text": [
      "5050\n"
     ]
    }
   ],
   "source": [
    "# Question 2 to find sum of numbers from 1-100\n",
    "sum = 0\n",
    "for i in range(1,101):\n",
    "\tsum += i\n",
    "print(sum)\n"
   ]
  },
  {
   "cell_type": "code",
   "execution_count": 4,
   "metadata": {},
   "outputs": [
    {
     "ename": "IndentationError",
     "evalue": "unindent does not match any outer indentation level (<tokenize>, line 7)",
     "output_type": "error",
     "traceback": [
      "\u001b[1;36m  File \u001b[1;32m\"<tokenize>\"\u001b[1;36m, line \u001b[1;32m7\u001b[0m\n\u001b[1;33m    numbers = float(input('Enter number : '))\u001b[0m\n\u001b[1;37m    ^\u001b[0m\n\u001b[1;31mIndentationError\u001b[0m\u001b[1;31m:\u001b[0m unindent does not match any outer indentation level\n"
     ]
    }
   ],
   "source": [
    "# Question 3 to find Average numbers of Students\n",
    "\n",
    " num = int(input('Select number of students: '))\n",
    "     total_sum = 0\n",
    " \n",
    "         for n in range(num):\n",
    "    numbers = float(input('Enter number : '))\n",
    "    total_sum += numbers\n",
    " \n",
    " avg = total_sum/num\n",
    "print('Average of ', num, ' Student is :', avg)"
   ]
  },
  {
   "cell_type": "code",
   "execution_count": 5,
   "metadata": {},
   "outputs": [
    {
     "name": "stdout",
     "output_type": "stream",
     "text": [
      "Quadratic function : (a * x^2) + b*x + c\n",
      "a: 9\n",
      "b: 3\n",
      "c: 6\n",
      "No roots, discriminant < 0.\n"
     ]
    }
   ],
   "source": [
    "# Question 4 to find a quadratic equation \n",
    "from math import sqrt\n",
    "\n",
    "print(\"Quadratic function : (a * x^2) + b*x + c\")\n",
    "a = float(input(\"a: \"))\n",
    "b = float(input(\"b: \"))\n",
    "c = float(input(\"c: \"))\n",
    "\n",
    "r = b**2 - 4*a*c\n",
    "\n",
    "if r > 0:\n",
    "    num_roots = 2\n",
    "    x1 = (((-b) + sqrt(r))/(2*a))     \n",
    "    x2 = (((-b) - sqrt(r))/(2*a))\n",
    "    print(\"There are 2 roots: %f and %f\" % (x1, x2))\n",
    "elif r == 0:\n",
    "    num_roots = 1\n",
    "    x = (-b) / 2*a\n",
    "    print(\"There is one root: \", x)\n",
    "else:\n",
    "    num_roots = 0\n",
    "    print(\"No roots, discriminant < 0.\")\n",
    "    exit()\n",
    "\n"
   ]
  },
  {
   "cell_type": "code",
   "execution_count": 1,
   "metadata": {},
   "outputs": [
    {
     "name": "stdout",
     "output_type": "stream",
     "text": [
      "Enter x: 8\n",
      "Enter y: 9\n",
      "44.0\n"
     ]
    }
   ],
   "source": [
    "# question 5 to find 2x+3y+1 \n",
    "a, b, c = 2, 3, 1\n",
    "x = float(input('Enter x: '))\n",
    "y = float(input('Enter y: '))\n",
    "result = a * x + b * y + c\n",
    "\n",
    "print(result)"
   ]
  },
  {
   "cell_type": "code",
   "execution_count": 2,
   "metadata": {},
   "outputs": [
    {
     "name": "stdout",
     "output_type": "stream",
     "text": [
      "TEMTSEN GABRIEL NAANZAM\n",
      "BHU/19/04/05/0055\n"
     ]
    }
   ],
   "source": [
    "print (\"TEMTSEN GABRIEL NAANZAM\")\n",
    "print (\"BHU/19/04/05/0055\")"
   ]
  },
  {
   "cell_type": "code",
   "execution_count": 1,
   "metadata": {},
   "outputs": [
    {
     "ename": "SyntaxError",
     "evalue": "invalid syntax (<ipython-input-1-785d297dc246>, line 4)",
     "output_type": "error",
     "traceback": [
      "\u001b[1;36m  File \u001b[1;32m\"<ipython-input-1-785d297dc246>\"\u001b[1;36m, line \u001b[1;32m4\u001b[0m\n\u001b[1;33m    if (score >= 70 ) AND (Score <= 100):\u001b[0m\n\u001b[1;37m                        ^\u001b[0m\n\u001b[1;31mSyntaxError\u001b[0m\u001b[1;31m:\u001b[0m invalid syntax\n"
     ]
    }
   ],
   "source": [
    "\n",
    "Score = 0\n",
    "print('Enter Score of Student')\n",
    "score = float(input(\"Enter students score:\"))\n",
    "if (score >= 70 ) AND (Score <= 100):\n",
    "    print('A')\n",
    "    elif(Score >= 60) AND (Score <= 69)\n",
    "    print('B')\n",
    "    elif(Score >= 50) AND (Score <= 59)\n",
    "    print('C')\n",
    "    elif(Score >= 45) AND (Score <= 49)\n",
    "    print('D')\n",
    "    elif(Score >= 40) AND (Score <= 44)\n",
    "    print('E')\n",
    "    elif(Score >= 0) AND (Score <= 39)\n",
    "    print('F')"
   ]
  },
  {
   "cell_type": "code",
   "execution_count": 2,
   "metadata": {},
   "outputs": [
    {
     "ename": "SyntaxError",
     "evalue": "invalid syntax (<ipython-input-2-45c9b70201d8>, line 6)",
     "output_type": "error",
     "traceback": [
      "\u001b[1;36m  File \u001b[1;32m\"<ipython-input-2-45c9b70201d8>\"\u001b[1;36m, line \u001b[1;32m6\u001b[0m\n\u001b[1;33m    elif(Score>= 60) and (Score<= 69):\u001b[0m\n\u001b[1;37m       ^\u001b[0m\n\u001b[1;31mSyntaxError\u001b[0m\u001b[1;31m:\u001b[0m invalid syntax\n"
     ]
    }
   ],
   "source": [
    "\n",
    "print('Enter Score of Student')\n",
    "Score = 0\n",
    "Score = float(input(\"Enter students score:\"))\n",
    "if (Score >= 70 ) and (Score<= 100):\n",
    "    print('A')\n",
    "    elif(Score>= 60) and (Score<= 69):\n",
    "    print('B')\n",
    "    elif(Score>= 50) and (Score<= 59)\n",
    "    print('C')\n",
    "    elif(Score>= 45) and (Score<= 49)\n",
    "    print('D')\n",
    "    elif(Score>= 40) and (Score<= 44)\n",
    "    print('E')\n",
    "    elif(Score>= 0) and (Score<= 39)\n",
    "    print('F')"
   ]
  },
  {
   "cell_type": "code",
   "execution_count": 1,
   "metadata": {},
   "outputs": [
    {
     "name": "stdout",
     "output_type": "stream",
     "text": [
      "AREA OF A TRIANGLE\n",
      "please enter your base: 9\n",
      "please enter your height: 9\n",
      " The Area of the Triangle is = 40.50 \n"
     ]
    }
   ],
   "source": [
    "#Surface Area of A Triangle\n",
    "import math\n",
    "print(\"AREA OF A TRIANGLE\")\n",
    "base = float(input('please enter your base: '))\n",
    "height = float(input('please enter your height: '))\n",
    "area = 1 / 2 * height * base\n",
    "print(\" The Area of the Triangle is = %.2f \" %area)"
   ]
  },
  {
   "cell_type": "code",
   "execution_count": null,
   "metadata": {},
   "outputs": [],
   "source": []
  }
 ],
 "metadata": {
  "kernelspec": {
   "display_name": "Python 3",
   "language": "python",
   "name": "python3"
  },
  "language_info": {
   "codemirror_mode": {
    "name": "ipython",
    "version": 3
   },
   "file_extension": ".py",
   "mimetype": "text/x-python",
   "name": "python",
   "nbconvert_exporter": "python",
   "pygments_lexer": "ipython3",
   "version": "3.7.4"
  }
 },
 "nbformat": 4,
 "nbformat_minor": 4
}
