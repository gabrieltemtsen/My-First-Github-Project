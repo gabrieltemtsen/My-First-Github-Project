{
 "cells": [
  {
   "cell_type": "code",
   "execution_count": null,
   "metadata": {},
   "outputs": [],
   "source": [
    "def Gpa(c1,c2,c3,c4,c5,c6):\n",
    "    for c1 in range(72,)\n",
    "        "
   ]
  },
  {
   "cell_type": "code",
   "execution_count": null,
   "metadata": {},
   "outputs": [],
   "source": [
    "for c1 in range(71,80):\n",
    "    print(c1)"
   ]
  },
  {
   "cell_type": "code",
   "execution_count": null,
   "metadata": {},
   "outputs": [],
   "source": [
    "def gpa(c1):\n",
    "    calc = c1 + c1\n",
    "    return calc\n",
    "gpa(3)\n"
   ]
  },
  {
   "cell_type": "code",
   "execution_count": null,
   "metadata": {},
   "outputs": [],
   "source": [
    "try:\n",
    "    \n",
    "    age = float(input(\"enter your age:\"))\n",
    "    print(age)\n",
    "except ValueError:\n",
    "    print(\"Sorry there is something you need to debug\")\n",
    "\n"
   ]
  },
  {
   "cell_type": "code",
   "execution_count": null,
   "metadata": {},
   "outputs": [],
   "source": [
    "semi_scores= {\n",
    "    a == 5\n",
    "    b == 3\n",
    "    c == 2\n",
    "    d == 1\n",
    "    f == 0\n",
    "}\n",
    "print(semiscores)"
   ]
  },
  {
   "cell_type": "code",
   "execution_count": null,
   "metadata": {},
   "outputs": [],
   "source": [
    "courses = int(input(\"How many courses have you offered\"))\n",
    "c1 = int(input(\"enter the cred  ♥           n                             \"))\n",
    "c2 = int(input(\"How many courses have you offered\"))\n",
    "c3 = int(input(\"How many courses have you offered\"))\n",
    "c4 = int(input(\"How many courses have you offered\"))\n",
    "c5 = int(input(\"How many courses have you offered\"))\n",
    "c6 = int(input(\"How many courses have you offered\"))\n",
    "c7 = int(input(\"How many courses have you offered\"))\n",
    "c8 = int(input(\"How many courses have you offered\"))\n",
    "c9 = int(input(\"How many courses have you offered\"))\n",
    "\n"
   ]
  },
  {
   "cell_type": "code",
   "execution_count": null,
   "metadata": {},
   "outputs": [],
   "source": [
    "\n",
    "y = int(input(\"enter the scores for the course:\"))\n",
    "x = int(input(\"enter the course unit:\"))\n",
    "if y>=70 and y<=100:\n",
    "    p = 5\n",
    "elif y<=60:\n",
    "    p = 3\n",
    "\n",
    "def Gpa(c1):\n",
    "    \n",
    "        \n",
    "    c1 =   x * p\n",
    "    return c1\n",
    "Gpa(c1)"
   ]
  },
  {
   "cell_type": "code",
   "execution_count": 3,
   "metadata": {},
   "outputs": [
    {
     "name": "stdout",
     "output_type": "stream",
     "text": [
      "How many courses have you offered so far:1\n",
      "enter the score for course:100\n",
      "enter the credit unit 2\n",
      "Congratulations your Gpa is 5.0You are a first Class\n"
     ]
    }
   ],
   "source": [
    "def gpa():\n",
    "    courses = int(input(\"How many courses have you offered so far:\"))\n",
    "    course_limit = 0\n",
    "    wgp = 0\n",
    "    total_credit = 0\n",
    "     \n",
    "    for numbers in range(course_limit,courses):\n",
    "        score = int(input(\"enter the score for course:\"))\n",
    "        credit_unit = int(input(\"enter the credit unit \"))\n",
    "        if score>=70 and score<=100:\n",
    "            grade = 5 \n",
    "            wgp += credit_unit * grade \n",
    "            total_credit += credit_unit\n",
    "        elif score>=60 and score<=69:\n",
    "            grade = 4 \n",
    "            wgp += credit_unit * grade\n",
    "            total_credit += credit_unit\n",
    "        elif score>=50 and score<=59:\n",
    "            grade = 3 \n",
    "            wgp += credit_unit * grade\n",
    "            total_credit += credit_unit\n",
    "        elif score>=45 and score<=49:\n",
    "            grade = 2 \n",
    "            wgp += credit_unit * grade\n",
    "            total_credit += credit_unit\n",
    "        elif score>=40 and score<=44:\n",
    "            grade = 1\n",
    "            wgp += credit_unit * grade\n",
    "            total_credit += credit_unit\n",
    "        elif score>=0 and score<=39:\n",
    "            grade = 0\n",
    "            wgp += credit_unit * grade\n",
    "            total_credit += credit_unit\n",
    "        else:\n",
    "            print(\"Sorry oo! start again\")\n",
    "    gpa = wgp / total_credit\n",
    "    if gpa >=4.5:\n",
    "        print(\"Congratulations your Gpa is \" + str(gpa) +\"You are a first Class\")\n",
    "    if gpa >=3.5 and gpa<=4.44:\n",
    "        print(\"Congratulations your Gpa is\" +str(gpa) + \"You are a second class upper student\")\n",
    "    if gpa >=2.5 and gpa<=3.49:\n",
    "        print(\"Congratulations your Gpa is\" +str(gpa) + \"You are a second class lower student\")\n",
    "gpa()            \n",
    "\n",
    "    \n"
   ]
  },
  {
   "cell_type": "code",
   "execution_count": null,
   "metadata": {},
   "outputs": [],
   "source": [
    ",\n",
    "    course = int(input(\"How many courses have you offered:\"))\n",
    "    numbers = 0\n",
    "    weighted_grade_point = 0\n",
    "    credit_unit = 0\n",
    "    for number in range(numbers,course):\n",
    "        credit_unit = int(input(\"please enter the credit unit\"))\n",
    "        grade = input(\"please enter the grades you got \")\n",
    "        if grade == 'a':\n",
    "            weighted_grade_point += credit_unit*5 \n",
    "            \n",
    "            \n",
    "     \n",
    "    \n",
    "    "
   ]
  },
  {
   "cell_type": "code",
   "execution_count": null,
   "metadata": {},
   "outputs": [],
   "source": [
    "x=  input(\"enter the score :\")\n",
    "print(x)\n"
   ]
  },
  {
   "cell_type": "code",
   "execution_count": null,
   "metadata": {},
   "outputs": [],
   "source": [
    "for x in range(0,9):\n",
    "    print(x)"
   ]
  },
  {
   "cell_type": "code",
   "execution_count": 13,
   "metadata": {},
   "outputs": [
    {
     "data": {
      "text/plain": [
       "17"
      ]
     },
     "execution_count": 13,
     "metadata": {},
     "output_type": "execute_result"
    }
   ],
   "source": []
  },
  {
   "cell_type": "code",
   "execution_count": 12,
   "metadata": {},
   "outputs": [
    {
     "name": "stdout",
     "output_type": "stream",
     "text": [
      "input start to start your car game: stert\n",
      "the System dosent understand what youve inserted please try again latef!\n",
      "enter stop to exit the game movingexit\n",
      "None\n"
     ]
    }
   ],
   "source": [
    "def game():\n",
    "    start = input(\"input start to start your car game: \")\n",
    "    if \"start\" in start:\n",
    "                   print(\"Your car is moving\")\n",
    "    else:\n",
    "        print(\"the System dosent understand what youve inserted please try again latef!\") \n",
    "    stop = input(\"enter stop to exit the game moving\")\n",
    "    if \"stop\" in stop:\n",
    "                 print(\"Game exited!\")   \n",
    "print(game())\n"
   ]
  },
  {
   "cell_type": "code",
   "execution_count": 11,
   "metadata": {},
   "outputs": [],
   "source": [
    "\n"
   ]
  },
  {
   "cell_type": "code",
   "execution_count": null,
   "metadata": {},
   "outputs": [],
   "source": []
  },
  {
   "cell_type": "code",
   "execution_count": null,
   "metadata": {},
   "outputs": [],
   "source": []
  },
  {
   "cell_type": "code",
   "execution_count": null,
   "metadata": {},
   "outputs": [],
   "source": []
  },
  {
   "cell_type": "code",
   "execution_count": null,
   "metadata": {},
   "outputs": [],
   "source": []
  },
  {
   "cell_type": "code",
   "execution_count": null,
   "metadata": {},
   "outputs": [],
   "source": []
  },
  {
   "cell_type": "code",
   "execution_count": null,
   "metadata": {},
   "outputs": [],
   "source": [
    "\n"
   ]
  },
  {
   "cell_type": "code",
   "execution_count": null,
   "metadata": {},
   "outputs": [],
   "source": []
  }
 ],
 "metadata": {
  "kernelspec": {
   "display_name": "Python 3",
   "language": "python",
   "name": "python3"
  },
  "language_info": {
   "codemirror_mode": {
    "name": "ipython",
    "version": 3
   },
   "file_extension": ".py",
   "mimetype": "text/x-python",
   "name": "python",
   "nbconvert_exporter": "python",
   "pygments_lexer": "ipython3",
   "version": "3.7.4"
  }
 },
 "nbformat": 4,
 "nbformat_minor": 2
}
